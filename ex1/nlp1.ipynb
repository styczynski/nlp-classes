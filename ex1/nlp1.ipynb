{
 "cells": [
  {
   "cell_type": "markdown",
   "metadata": {},
   "source": [
    "# Piotr Styczyński NLP1\n",
    "*NLP @ 24 Feb 2020*\n",
    "\n",
    "The following code reads tab file from NKJP and calculates frequencies counts, plots them and tries to estimate Zipf coefficient for the given text data."
   ]
  },
  {
   "cell_type": "code",
   "execution_count": 36,
   "metadata": {},
   "outputs": [
    {
     "data": {
      "text/latex": [
       "\n",
       "I used the builtin numpy optimization algorithms for minimization to find optimal zipf coefficient. From zipf law:\n",
       "$$ \\\\ $$\n",
       "\\(-log(x) * a + b = log(y)\\) $$ \\\\ $$\n",
       "\\(e^{log(x)*(-a)+b} = y\\) $$ \\\\ $$\n",
       "\\(x^{-a} + e^{b} = y\\) $$ \\\\ $$\n",
       "\\(x^{-a} + c = y\\) $$ \\\\ $$\n",
       "\n",
       "Hence zipf distribution for \\(x=1,2,...,n\\) states that the probability of occurrence of x i proportional to \\(x^{-a}\\).\n",
       "Let's suppose we've got arbitrary fixed factor a and\n",
       "frequencies of occurrence for each \\(x_i\\) that comes from the experiment result \\(f_1, f_2, f_3, ..., f_n\\)\n",
       "Then logarithm from probability of getting x is equal to: $$ \\\\ $$\n",
       "$$ \\\\ $$\n",
       "\\(log(P(x)) = log(\\frac{x^{-a}}{k})\\) $$ \\\\ $$\n",
       "$$ \\\\ $$\n",
       "Note that k is a constant equal to \\(\\sum_{i=0}^{n} x^{-a}\\) so that\n",
       "\\(\\sum_{i=0}^{n} P(x) = 1\\), so that is a valid probability distribution (we perform normalization). $$ \\\\ $$\n",
       "$$ \\\\ $$\n",
       "Probability of getting \\(f_1\\) times number 1, \\(f_2\\) times number 2, … \\(f_n\\) times number n is equal to: $$ \\\\ $$\n",
       "$$ \\\\ $$\n",
       "\\(\n",
       "    Q(f_1, f_2, … f_n) = P(1)^f_1 + P(2)^f_2 + … + P(n)^f_n\n",
       "\\) $$ \\\\ $$\n",
       "$$ \\\\ $$\n",
       "Logarithm from Q is equal to: $$ \\\\ $$\n",
       "$$ \\\\ $$\n",
       "\\( log(Q) = log(\\sum_{i=0}^{n} P(i)*f_i) \\) $$ \\\\ $$\n",
       "\\(log(Q) = \\sum_{i=0}^{n} f_i * log(P(i))\\) $$ \\\\ $$\n",
       "$$ \\\\ $$\n",
       "$$ \\\\ $$\n",
       "Hence:\n",
       "\\(\n",
       "  log(Q) = f_i * log(x^{-a} / (\\sum_{j=0}^{n}{ x^{-a} })))\n",
       "\\) $$ \\\\ $$\n",
       "$$ \\\\ $$\n",
       "So we've got function \\(F(a) = \\sum_{i=0}^{n} f_i * log(\\frac{x^{-a}}{ \\sum_{j=0}^{n} x^{-a}}))\\)\n",
       "And we want to minimize it over F (i.e calculate \\(argmax_a(F(a))\\))\n",
       "That way we've got most probable zipf coefficient. $$ \\\\ $$\n",
       "$$ \\\\ $$\n",
       "We use scipy builtin engine for finding optimums in linear sets of constrained equations.\n",
       "The logarithm is monotonic so it does not affect local optimiums locations and eliminates exponentiation\n",
       "We can simplify the formula to find a minimum of: $$ \\\\ $$\n",
       "$$ \\\\ $$\n",
       "\\(F(a) = \\sum_{i=0}^{n} f_i * -a * log(x) - log(H_a(n)))\\)$$ \\\\ $$\n",
       "Where \\(H_k(n) = \\frac{1}{1^k} + \\frac{1}{2^k} + \\frac{1}{3^k} + … + \\frac{1}{n^k}\\) (harmonic sum of rank k)$$ \\\\ $$\n",
       "$$ \\\\ $$\n",
       "But this not simplify computation a lot.\n",
       "This approach is referred to as minimization of log likelihood\n"
      ],
      "text/plain": [
       "<IPython.core.display.Latex object>"
      ]
     },
     "metadata": {},
     "output_type": "display_data"
    }
   ],
   "source": []
  },
  {
   "cell_type": "code",
   "execution_count": 37,
   "metadata": {},
   "outputs": [
    {
     "name": "stdout",
     "output_type": "stream",
     "text": [
      "\n",
      "\n"
     ]
    },
    {
     "data": {
      "text/html": [
       "<table><tr><td>property</td><td>value</td></tr><tr><td>case</td><td>Zipf curve for forms</td></tr><tr><td>Best coeffs from log likelihood</td><td>11.64 + x*-2.01</td></tr><tr><td>Curve slope</td><td>63.5</td></tr></table>"
      ],
      "text/plain": [
       "[['property', 'value'],\n",
       " ['case', 'Zipf curve for forms'],\n",
       " ['Best coeffs from log likelihood', '11.64 + x*-2.01'],\n",
       " ['Curve slope', '63.5']]"
      ]
     },
     "metadata": {},
     "output_type": "display_data"
    },
    {
     "name": "stdout",
     "output_type": "stream",
     "text": [
      "\n",
      "\n"
     ]
    },
    {
     "data": {
      "text/html": [
       "<table><tr><td>property</td><td>value</td></tr><tr><td>case</td><td>Zipf curve for lemmas</td></tr><tr><td>Best coeffs from log likelihood</td><td>10.12 + x*-1.62</td></tr><tr><td>Curve slope</td><td>58.33</td></tr></table>"
      ],
      "text/plain": [
       "[['property', 'value'],\n",
       " ['case', 'Zipf curve for lemmas'],\n",
       " ['Best coeffs from log likelihood', '10.12 + x*-1.62'],\n",
       " ['Curve slope', '58.33']]"
      ]
     },
     "metadata": {},
     "output_type": "display_data"
    },
    {
     "data": {
      "image/png": "[encoded data removed]",
      "text/plain": [
       "<Figure size 432x288 with 1 Axes>"
      ]
     },
     "metadata": {
      "needs_background": "light"
     },
     "output_type": "display_data"
    }
   ],
   "source": []
  },
  {
   "cell_type": "code",
   "execution_count": null,
   "metadata": {},
   "outputs": [],
   "source": [
    "import csv\n",
    "import sys\n",
    "import collections\n",
    "import math\n",
    "import numpy as np\n",
    "import matplotlib.pyplot as plt\n",
    "from scipy.optimize import minimize\n",
    "from scipy.stats import linregress\n",
    "import scipy\n",
    "\n",
    "from format_utils import ListTable\n",
    "from IPython.core.display import display\n",
    "\n",
    "# Some fields overflow default CSV buffer so we set incredibly huge default\n",
    "csv.field_size_limit(sys.maxsize)\n",
    "\n",
    "for [case_no, case_name] in [[0, 'forms'], [1, 'lemmas']]:\n",
    "    # Open input file\n",
    "    freqs = dict()\n",
    "    with open('1_NKJP1M-frequency.tab', newline = '') as file:\n",
    "        reader = csv.reader(file, delimiter='\\t', quoting=csv.QUOTE_NONE)\n",
    "        counts = []\n",
    "        if case_no == 0:\n",
    "            counts = np.array([int(r[-1]) for r in reader])\n",
    "        else:\n",
    "            lem_freq = dict()\n",
    "            for r in reader:\n",
    "                if r[1] in lem_freq:\n",
    "                    lem_freq[r[1]] += int(r[-1])\n",
    "                else:\n",
    "                    lem_freq[r[1]] = int(r[-1])\n",
    "            counts = list(lem_freq.values())\n",
    "        freqs = collections.Counter(counts)\n",
    "\n",
    "    # Get x and y axis samples for plotting\n",
    "    # this changes dict(key: count) into two lists [keys..] [counts..] that are sorted by keys\n",
    "    # and creates numpy arrays from them\n",
    "    [x, y] = map(np.array, map(list, zip(*sorted(freqs.items()))))\n",
    "\n",
    "    # Function used for minimization\n",
    "    def opt(alpha):\n",
    "        p_i = x**(-alpha)\n",
    "        return -(np.log(p_i / p_i.sum()) * y).sum()\n",
    "\n",
    "    # We find optimal linear function by minimizing distance (see opt function)\n",
    "    # This uses BFGS underneath and it's fine for this usage\n",
    "    coeff = (-minimize(opt, [2]).x)[0]\n",
    "\n",
    "    # Plot results\n",
    "    plt.plot(x, y, 'o', label=f\"frequencies {case_name}\")\n",
    "    plt.xscale(\"log\")\n",
    "    plt.yscale(\"log\")\n",
    "\n",
    "    # Trim axes of graph\n",
    "    cc = y[0] * (x ** [coeff])\n",
    "    plt.ylim(1)\n",
    "    plt.xlim(1)\n",
    "    plt.plot(x, cc, label=f\"log likelihood {case_name}\")\n",
    "\n",
    "    # Plot also linear regression for comparison\n",
    "    lr_a, lr_b, _, _, _ = scipy.stats.linregress(np.log(x), np.log(y))\n",
    "    plt.ylim(1)\n",
    "    plt.xlim(1)\n",
    "    plt.plot(x, (np.e ** lr_b) * (x ** [lr_a]), label=f\"linear regression {case_name}\")\n",
    "    plt.legend()\n",
    "\n",
    "    # Helper to format float to string\n",
    "    rf = lambda v: str(round(v, 2))\n",
    "    # Helper function to convert radians to string with degrees\n",
    "    coeff2angle = lambda coeff: rf(abs(np.arctan(coeff)/(2*np.pi)*360))\n",
    "\n",
    "    # Find the linear function slope in degrees and print coeff\n",
    "    l = ListTable()\n",
    "    l.append([\"property\", \"value\"])\n",
    "    l.append([\"case\", f\"Zipf curve for {case_name}\"])\n",
    "    #l.append([\"LR slope\", coeff2angle(lr_a)])\n",
    "    l.append([\"Best coeffs from log likelihood\", f\"{rf(math.log(y[0]))} + x*{rf(coeff)}\"])\n",
    "    l.append([\"Curve slope\", coeff2angle(coeff)])\n",
    "    print(\"\\n\")\n",
    "    display(l)\n"
   ]
  }
 ],
 "metadata": {
  "kernelspec": {
   "display_name": "Python 3",
   "language": "python",
   "name": "python3"
  },
  "language_info": {
   "codemirror_mode": {
    "name": "ipython",
    "version": 3
   },
   "file_extension": ".py",
   "mimetype": "text/x-python",
   "name": "python",
   "nbconvert_exporter": "python",
   "pygments_lexer": "ipython3",
   "version": "3.7.3"
  }
 },
 "nbformat": 4,
 "nbformat_minor": 2
}

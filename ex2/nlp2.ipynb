{
 "cells": [
  {
   "cell_type": "markdown",
   "metadata": {},
   "source": [
    "# Ex. 2.1"
   ]
  },
  {
   "cell_type": "code",
   "execution_count": 65,
   "metadata": {},
   "outputs": [],
   "source": [
    "import csv\n",
    "import sys\n",
    "import collections\n",
    "import math\n",
    "import itertools\n",
    "import numpy as np\n",
    "import matplotlib.pyplot as plt\n",
    "from scipy.optimize import minimize\n",
    "from scipy.stats import linregress\n",
    "\n",
    "# Some fields overflow default CSV buffer so we set incredibly huge default\n",
    "csv.field_size_limit(sys.maxsize)\n",
    "# Read file\n",
    "def openTab(path, skip_lines=0, create_counters=True):\n",
    "    with open(path, newline = '') as file:\n",
    "        lowerer = lambda x: x.lower()\n",
    "        \n",
    "        r = csv.reader(file, delimiter='\\t', quoting=csv.QUOTE_NONE)\n",
    "        r = r if skip_lines == 0 else itertools.islice(r, skip_lines, None)\n",
    "        [F, L] = map(list, zip(*sorted([(e[0], e[1]) for e in r])))\n",
    "        [f, l] = [list(map(lowerer, list(F))), list(map(lowerer, list(L)))]\n",
    "        \n",
    "        if not create_counters:\n",
    "            return (\n",
    "                set(F), set(L), set(f), set(l),\n",
    "                None, None, None, None)\n",
    "        \n",
    "        f_counts = collections.Counter(f)\n",
    "        l_counts = collections.Counter(l)\n",
    "        F_counts = collections.Counter(F)\n",
    "        L_counts = collections.Counter(L)\n",
    "        \n",
    "        def create_counter(o):\n",
    "            def counter(x):\n",
    "                nonlocal o\n",
    "                return o[x]\n",
    "            return counter\n",
    "        \n",
    "        return (\n",
    "            set(F), set(L), set(f), set(l),\n",
    "            create_counter(F_counts), create_counter(L_counts),\n",
    "            create_counter(f_counts), create_counter(l_counts))"
   ]
  },
  {
   "cell_type": "code",
   "execution_count": 66,
   "metadata": {},
   "outputs": [],
   "source": [
    "(Y_F, Y_L, Y_f, Y_l, f_F, f_L, f_f, f_l) = openTab('1_NKJP1M-frequency.tab')"
   ]
  },
  {
   "cell_type": "code",
   "execution_count": 25,
   "metadata": {},
   "outputs": [],
   "source": [
    "(X_F, X_L, X_f, X_l, _, _, _, _) = openTab('sgjp.tab', 29, False)"
   ]
  },
  {
   "cell_type": "code",
   "execution_count": 11,
   "metadata": {},
   "outputs": [],
   "source": [
    "class ListTable(list):\n",
    "    \"\"\" Overridden list class which takes a 2-dimensional list of \n",
    "        the form [[1,2,3],[4,5,6]], and renders an HTML Table in \n",
    "        IPython Notebook. \"\"\"\n",
    "    \n",
    "    def _repr_html_(self):\n",
    "        html = [\"<table>\"]\n",
    "        for row in self:\n",
    "            html.append(\"<tr>\")\n",
    "            \n",
    "            for col in row:\n",
    "                html.append(\"<td>{0}</td>\".format(col))\n",
    "            \n",
    "            html.append(\"</tr>\")\n",
    "        html.append(\"</table>\")\n",
    "        return ''.join(html)"
   ]
  },
  {
   "cell_type": "markdown",
   "metadata": {},
   "source": [
    "# Ex. 2.2"
   ]
  },
  {
   "cell_type": "code",
   "execution_count": 90,
   "metadata": {},
   "outputs": [
    {
     "name": "stdout",
     "output_type": "stream",
     "text": [
      "\n",
      "\n"
     ]
    },
    {
     "data": {
      "text/html": [
       "<table><tr><td>property</td><td>value</td></tr><tr><td>case</td><td>X_F, Y_F</td></tr><tr><td>|X and Y| / |X|</td><td>0.0231</td></tr><tr><td>|X and Y| / |Y|</td><td>0.77</td></tr><tr><td>sum[s in XY] f_i(s) / sum[s in Y] f_i(s)</td><td>0.7829</td></tr></table>"
      ],
      "text/plain": [
       "[['property', 'value'],\n",
       " ['case', 'X_F, Y_F'],\n",
       " ['|X and Y| / |X|', '0.0231'],\n",
       " ['|X and Y| / |Y|', '0.77'],\n",
       " ['sum[s in XY] f_i(s) / sum[s in Y] f_i(s)', '0.7829']]"
      ]
     },
     "metadata": {},
     "output_type": "display_data"
    },
    {
     "name": "stdout",
     "output_type": "stream",
     "text": [
      "\n",
      "\n"
     ]
    },
    {
     "data": {
      "text/html": [
       "<table><tr><td>property</td><td>value</td></tr><tr><td>case</td><td>X_f, Y_f</td></tr><tr><td>|X and Y| / |X|</td><td>0.0239</td></tr><tr><td>|X and Y| / |Y|</td><td>0.89</td></tr><tr><td>sum[s in XY] f_i(s) / sum[s in Y] f_i(s)</td><td>0.902</td></tr></table>"
      ],
      "text/plain": [
       "[['property', 'value'],\n",
       " ['case', 'X_f, Y_f'],\n",
       " ['|X and Y| / |X|', '0.0239'],\n",
       " ['|X and Y| / |Y|', '0.89'],\n",
       " ['sum[s in XY] f_i(s) / sum[s in Y] f_i(s)', '0.902']]"
      ]
     },
     "metadata": {},
     "output_type": "display_data"
    },
    {
     "name": "stdout",
     "output_type": "stream",
     "text": [
      "\n",
      "\n"
     ]
    },
    {
     "data": {
      "text/html": [
       "<table><tr><td>property</td><td>value</td></tr><tr><td>case</td><td>X_L, Y_L</td></tr><tr><td>|X and Y| / |X|</td><td>0.0977</td></tr><tr><td>|X and Y| / |Y|</td><td>0.6441</td></tr><tr><td>sum[s in XY] f_i(s) / sum[s in Y] f_i(s)</td><td>0.7817</td></tr></table>"
      ],
      "text/plain": [
       "[['property', 'value'],\n",
       " ['case', 'X_L, Y_L'],\n",
       " ['|X and Y| / |X|', '0.0977'],\n",
       " ['|X and Y| / |Y|', '0.6441'],\n",
       " ['sum[s in XY] f_i(s) / sum[s in Y] f_i(s)', '0.7817']]"
      ]
     },
     "metadata": {},
     "output_type": "display_data"
    },
    {
     "name": "stdout",
     "output_type": "stream",
     "text": [
      "\n",
      "\n"
     ]
    },
    {
     "data": {
      "text/html": [
       "<table><tr><td>property</td><td>value</td></tr><tr><td>case</td><td>X_l, Y_l</td></tr><tr><td>|X and Y| / |X|</td><td>0.1002</td></tr><tr><td>|X and Y| / |Y|</td><td>0.6769</td></tr><tr><td>sum[s in XY] f_i(s) / sum[s in Y] f_i(s)</td><td>0.8023</td></tr></table>"
      ],
      "text/plain": [
       "[['property', 'value'],\n",
       " ['case', 'X_l, Y_l'],\n",
       " ['|X and Y| / |X|', '0.1002'],\n",
       " ['|X and Y| / |Y|', '0.6769'],\n",
       " ['sum[s in XY] f_i(s) / sum[s in Y] f_i(s)', '0.8023']]"
      ]
     },
     "metadata": {},
     "output_type": "display_data"
    },
    {
     "data": {
      "text/html": [
       "<table><tr><td>property</td><td>value</td></tr><tr><td>case</td><td>X_l, Y_l</td></tr><tr><td>|X and Y| / |X|</td><td>0.1002</td></tr><tr><td>|X and Y| / |Y|</td><td>0.6769</td></tr><tr><td>sum[s in XY] f_i(s) / sum[s in Y] f_i(s)</td><td>0.8023</td></tr></table>"
      ],
      "text/plain": [
       "[['property', 'value'],\n",
       " ['case', 'X_l, Y_l'],\n",
       " ['|X and Y| / |X|', '0.1002'],\n",
       " ['|X and Y| / |Y|', '0.6769'],\n",
       " ['sum[s in XY] f_i(s) / sum[s in Y] f_i(s)', '0.8023']]"
      ]
     },
     "execution_count": 90,
     "metadata": {},
     "output_type": "execute_result"
    }
   ],
   "source": [
    "from IPython.core.display import display\n",
    "rf = lambda v: str(round(v, 4))\n",
    "\n",
    "for i in [\"F\", \"f\", \"L\", \"l\"]:\n",
    "    \n",
    "    vs = dict(globals(), **locals())\n",
    "    X = vs[f\"X_{i}\"]\n",
    "    Y = vs[f\"Y_{i}\"]\n",
    "    f = vs[f\"f_{i}\"]\n",
    "    XY = X.intersection(Y)\n",
    "    X_len = len(X)\n",
    "    Y_len = len(Y)\n",
    "    XY_len = len(XY)\n",
    "\n",
    "    F1 = sum([f(s) for s in XY])\n",
    "    F2 = sum([f(s) for s in Y])\n",
    "    \n",
    "    A1 = XY_len / X_len\n",
    "    A2 = XY_len / Y_len\n",
    "    A3 = F1 / F2\n",
    "    \n",
    "    l = ListTable()\n",
    "    l.append([\"property\", \"value\"])\n",
    "    l.append([\"case\", f\"X_{i}, Y_{i}\"])\n",
    "    l.append([\"|X and Y| / |X|\", rf(A1)])\n",
    "    l.append([\"|X and Y| / |Y|\", rf(A2)])\n",
    "    l.append([\"sum[s in XY] f_i(s) / sum[s in Y] f_i(s)\", rf(A3)])\n",
    "    print(\"\\n\")\n",
    "    display(l)\n",
    "l\n",
    "    "
   ]
  },
  {
   "cell_type": "code",
   "execution_count": 19,
   "metadata": {},
   "outputs": [
    {
     "name": "stdout",
     "output_type": "stream",
     "text": [
      "\n",
      "\n"
     ]
    },
    {
     "data": {
      "text/html": [
       "<table><tr><td>property</td><td>value</td></tr><tr><td>amb. lemmatizations (sgjp)</td><td>333459</td></tr><tr><td>amb. lemmatizations (sgjp, comma cutoff)</td><td>186818</td></tr></table>"
      ],
      "text/plain": [
       "[['property', 'value'],\n",
       " ['amb. lemmatizations (sgjp)', 333459],\n",
       " ['amb. lemmatizations (sgjp, comma cutoff)', 186818]]"
      ]
     },
     "metadata": {},
     "output_type": "display_data"
    }
   ],
   "source": [
    "# Read file\n",
    "from collections import defaultdict\n",
    "import csv\n",
    "import math\n",
    "import itertools\n",
    "import numpy as np\n",
    "def getLemmatizationsVariantCounts(path, lem_mapper=None, form_mapper=None, skip_lines=0):\n",
    "    fn_id = lambda x: x\n",
    "    if not lem_mapper:\n",
    "        lem_mapper = fn_id\n",
    "    if not form_mapper:\n",
    "        form_mapper = fn_id\n",
    "    with open(path, newline = '') as file:\n",
    "        r = csv.reader(file, delimiter='\\t', quoting=csv.QUOTE_NONE)\n",
    "        r = r if skip_lines == 0 else itertools.islice(r, skip_lines, None)\n",
    "       \n",
    "        d = defaultdict(set)\n",
    "        for e in r:\n",
    "            d[form_mapper(e[0])].add(lem_mapper(e[1]))\n",
    "        r = defaultdict(int)\n",
    "        for lems in d.items():\n",
    "            r[lems[0]] = len(lems[1])\n",
    "        return r\n",
    "\n",
    "ambig_count = sum([ 1 for c in getLemmatizationsVariantCounts('sgjp.tab', None, None, 29).values() if c > 1 ])\n",
    "ambig_count_comma_cutoff = sum([ 1 for c in getLemmatizationsVariantCounts('sgjp.tab', lambda x: x.split(\":\")[0], None, 29).values() if c > 1])\n",
    "\n",
    "l = ListTable()\n",
    "l.append([\"property\", \"value\"])\n",
    "l.append([\"amb. lemmatizations (sgjp)\", ambig_count])\n",
    "l.append([\"amb. lemmatizations (sgjp, comma cutoff)\", ambig_count_comma_cutoff])\n",
    "print(\"\\n\")\n",
    "display(l)"
   ]
  },
  {
   "cell_type": "markdown",
   "metadata": {},
   "source": [
    "# Ex. 2.3"
   ]
  },
  {
   "cell_type": "code",
   "execution_count": null,
   "metadata": {},
   "outputs": [],
   "source": []
  },
  {
   "cell_type": "code",
   "execution_count": 80,
   "metadata": {},
   "outputs": [
    {
     "name": "stdout",
     "output_type": "stream",
     "text": [
      "\n",
      "\n"
     ]
    },
    {
     "data": {
      "text/html": [
       "<table><tr><td>property</td><td>percents</td><td>count</td><td>all forms</td></tr><tr><td>Lemmatization NKJP1M vs SGJP</td><td>0.6092989866042181</td><td>87421</td><td>143478</td></tr><tr><td>Lemmatization NKJP1M vs SGJP (lower letters)</td><td>0.5698573997407268</td><td>81762</td><td>143478</td></tr></table>"
      ],
      "text/plain": [
       "[['property', 'percents', 'count', 'all forms'],\n",
       " ['Lemmatization NKJP1M vs SGJP', 0.6092989866042181, 87421, 143478],\n",
       " ['Lemmatization NKJP1M vs SGJP (lower letters)',\n",
       "  0.5698573997407268,\n",
       "  81762,\n",
       "  143478]]"
      ]
     },
     "metadata": {},
     "output_type": "display_data"
    }
   ],
   "source": [
    "def checkLemmatizationUsing(path_src, path_dict, lem_mappers=[None, None], form_mappers=[None, None], skips=[0, 0]):\n",
    "    s = getLemmatizationsVariantCounts(path_src, lem_mappers[0], form_mappers[0], skips[0])\n",
    "    d = getLemmatizationsVariantCounts(path_dict, lem_mappers[1], form_mappers[1], skips[1])\n",
    "    return (sum([1 for form in s.keys() if d[form] == 1]), len(s.keys()))\n",
    "        \n",
    "lowerer = lambda x: x.lower()\n",
    "clu_without_lowers, clu_count = checkLemmatizationUsing('1_NKJP1M-frequency.tab', 'sgjp.tab', [None, None], [None, None], [0, 29])\n",
    "clu_with_lowers, _ = checkLemmatizationUsing('1_NKJP1M-frequency.tab', 'sgjp.tab', [None, None], [lowerer, lowerer], [0, 29])\n",
    "\n",
    "l = ListTable()\n",
    "l.append([\"property\", \"percents\", \"count\", \"all forms\"])\n",
    "l.append([\"Lemmatization NKJP1M vs SGJP\", clu_without_lowers/clu_count, clu_without_lowers, clu_count])\n",
    "l.append([\"Lemmatization NKJP1M vs SGJP (lower letters)\", clu_with_lowers/clu_count, clu_with_lowers, clu_count])\n",
    "print(\"\\n\")\n",
    "display(l)"
   ]
  },
  {
   "cell_type": "markdown",
   "metadata": {},
   "source": [
    "# Additional tasks"
   ]
  },
  {
   "cell_type": "code",
   "execution_count": 78,
   "metadata": {},
   "outputs": [
    {
     "data": {
      "text/plain": [
       "[{'highlighted': 'dopóki nie udowodniono winy to [każdy] jest niewinny – jeszcze Jarosław',\n",
       "  'text': 'dopóki nie udowodniono winy to każdy jest niewinny – jeszcze Jarosław',\n",
       "  'items': [{'text': 'dopóki', 'anno': ['dopóki', 'comp']},\n",
       "   {'text': 'nie', 'anno': ['nie', 'qub']},\n",
       "   {'text': 'udowodniono', 'anno': ['udowodnić', 'imps', 'perf']},\n",
       "   {'text': 'winy', 'anno': ['wina', 'subst', 'sg', 'gen', 'f']},\n",
       "   {'text': 'to', 'anno': ['to', 'conj']},\n",
       "   {'text': 'każdy', 'anno': ['każdy', 'adj', 'sg', 'nom', 'm1', 'pos']},\n",
       "   {'text': 'jest', 'anno': ['być', 'fin', 'sg', 'ter', 'imperf']},\n",
       "   {'text': 'niewinny', 'anno': ['niewinny', 'adj', 'sg', 'nom', 'm1', 'pos']},\n",
       "   {'text': '–', 'anno': ['–', 'interp']},\n",
       "   {'text': 'jeszcze', 'anno': ['jeszcze', 'qub']},\n",
       "   {'text': 'Jarosław', 'anno': ['Jarosław', 'subst', 'sg', 'nom', 'm1']}]},\n",
       " {'highlighted': 'fajnie by było. – [każdy] swoją połóweczkę jakąś wyciągnie.',\n",
       "  'text': 'fajnie by było. – każdy swoją połóweczkę jakąś wyciągnie.',\n",
       "  'items': [{'text': 'fajnie', 'anno': ['fajnie', 'adv', 'pos']},\n",
       "   {'text': 'by', 'anno': ['by', 'qub']},\n",
       "   {'text': 'było', 'anno': ['być', 'praet', 'sg', 'n', 'imperf']},\n",
       "   {'text': '.', 'anno': ['', 'interp']},\n",
       "   {'text': '–', 'anno': ['–', 'interp']},\n",
       "   {'text': 'każdy', 'anno': ['każdy', 'adj', 'sg', 'nom', 'm1', 'pos']},\n",
       "   {'text': 'swoją', 'anno': ['swój', 'adj', 'sg', 'acc', 'f', 'pos']},\n",
       "   {'text': 'połóweczkę', 'anno': ['połóweczka', 'subst', 'sg', 'acc', 'f']},\n",
       "   {'text': 'jakąś', 'anno': ['jakiś', 'adj', 'sg', 'acc', 'f', 'pos']},\n",
       "   {'text': 'wyciągnie', 'anno': ['wyciągnąć', 'fin', 'sg', 'ter', 'perf']},\n",
       "   {'text': '.', 'anno': ['', 'interp']}]},\n",
       " {'highlighted': 'mówi: - Cóż, [każdy] człowiek musi jakoś umrzeć.',\n",
       "  'text': 'mówi: - Cóż, każdy człowiek musi jakoś umrzeć.',\n",
       "  'items': [{'text': 'mówi', 'anno': ['mówić', 'fin', 'sg', 'ter', 'imperf']},\n",
       "   {'text': ':', 'anno': ['interp']},\n",
       "   {'text': '-', 'anno': ['-', 'interp']},\n",
       "   {'text': 'Cóż', 'anno': ['cóż', 'subst', 'sg', 'nom', 'n']},\n",
       "   {'text': ',', 'anno': ['', 'interp']},\n",
       "   {'text': 'każdy', 'anno': ['każdy', 'adj', 'sg', 'nom', 'm1', 'pos']},\n",
       "   {'text': 'człowiek', 'anno': ['człowiek', 'subst', 'sg', 'nom', 'm1']},\n",
       "   {'text': 'musi', 'anno': ['musieć', 'fin', 'sg', 'ter', 'imperf']},\n",
       "   {'text': 'jakoś', 'anno': ['jakoś', 'adv', 'pos']},\n",
       "   {'text': 'umrzeć', 'anno': ['umrzeć', 'inf', 'perf']},\n",
       "   {'text': '.', 'anno': ['', 'interp']}]},\n",
       " {'highlighted': 'i uznającym za zbrodniarza wojennego [każdy] rząd, który by pierwszy',\n",
       "  'text': 'i uznającym za zbrodniarza wojennego każdy rząd, który by pierwszy',\n",
       "  'items': [{'text': 'i', 'anno': ['i', 'conj']},\n",
       "   {'text': 'uznającym',\n",
       "    'anno': ['uznawać', 'pact', 'sg', 'inst', 'm3', 'imperf', 'aff']},\n",
       "   {'text': 'za', 'anno': ['za', 'prep', 'acc']},\n",
       "   {'text': 'zbrodniarza', 'anno': ['zbrodniarz', 'subst', 'sg', 'acc', 'm1']},\n",
       "   {'text': 'wojennego', 'anno': ['wojenny', 'adj', 'sg', 'acc', 'm1', 'pos']},\n",
       "   {'text': 'każdy', 'anno': ['każdy', 'adj', 'sg', 'acc', 'm3', 'pos']},\n",
       "   {'text': 'rząd', 'anno': ['rząd', 'subst', 'sg', 'acc', 'm3']},\n",
       "   {'text': ',', 'anno': ['', 'interp']},\n",
       "   {'text': 'który', 'anno': ['który', 'adj', 'sg', 'nom', 'm3', 'pos']},\n",
       "   {'text': 'by', 'anno': ['by', 'qub']},\n",
       "   {'text': 'pierwszy',\n",
       "    'anno': ['pierwszy', 'adj', 'sg', 'nom', 'm3', 'pos']}]},\n",
       " {'highlighted': 'nie wiadomo co to ci [każdy] patrzy eee coś zmyśla',\n",
       "  'text': 'nie wiadomo co to ci każdy patrzy eee coś zmyśla',\n",
       "  'items': [{'text': 'nie', 'anno': ['nie', 'qub']},\n",
       "   {'text': 'wiadomo', 'anno': ['wiadomo', 'pred']},\n",
       "   {'text': 'co', 'anno': ['co', 'subst', 'sg', 'acc', 'n']},\n",
       "   {'text': 'to', 'anno': ['to', 'conj']},\n",
       "   {'text': 'ci', 'anno': ['ty', 'ppron12', 'sg', 'dat', 'm1', 'sec', 'nakc']},\n",
       "   {'text': 'każdy', 'anno': ['każdy', 'adj', 'sg', 'nom', 'm1', 'pos']},\n",
       "   {'text': 'patrzy', 'anno': ['patrzeć', 'fin', 'sg', 'ter', 'imperf']},\n",
       "   {'text': 'eee', 'anno': ['e', 'interj']},\n",
       "   {'text': 'coś', 'anno': ['coś', 'subst', 'sg', 'acc', 'n']},\n",
       "   {'text': 'zmyśla', 'anno': ['zmyślać', 'fin', 'sg', 'ter', 'imperf']}]},\n",
       " {'highlighted': 'się do tego, że [każdy] członek rodziny funkcjonuje sam w',\n",
       "  'text': 'się do tego, że każdy członek rodziny funkcjonuje sam w',\n",
       "  'items': [{'text': 'się', 'anno': ['się', 'qub']},\n",
       "   {'text': 'do', 'anno': ['do', 'prep', 'gen']},\n",
       "   {'text': 'tego', 'anno': ['to', 'subst', 'sg', 'gen', 'n']},\n",
       "   {'text': ',', 'anno': ['', 'interp']},\n",
       "   {'text': 'że', 'anno': ['że', 'comp']},\n",
       "   {'text': 'każdy', 'anno': ['każdy', 'adj', 'sg', 'nom', 'm1', 'pos']},\n",
       "   {'text': 'członek', 'anno': ['członek', 'subst', 'sg', 'nom', 'm1']},\n",
       "   {'text': 'rodziny', 'anno': ['rodzina', 'subst', 'sg', 'gen', 'f']},\n",
       "   {'text': 'funkcjonuje',\n",
       "    'anno': ['funkcjonować', 'fin', 'sg', 'ter', 'imperf']},\n",
       "   {'text': 'sam', 'anno': ['sam', 'adj', 'sg', 'nom', 'm1', 'pos']},\n",
       "   {'text': 'w', 'anno': ['w', 'prep', 'loc', 'nwok']}]},\n",
       " {'highlighted': 'Pojedynczy lub podwójny obwód miał [każdy] fort, kraty były też',\n",
       "  'text': 'Pojedynczy lub podwójny obwód miał każdy fort, kraty były też',\n",
       "  'items': [{'text': 'Pojedynczy',\n",
       "    'anno': ['pojedynczy', 'adj', 'sg', 'acc', 'm3', 'pos']},\n",
       "   {'text': 'lub', 'anno': ['lub', 'conj']},\n",
       "   {'text': 'podwójny', 'anno': ['podwójny', 'adj', 'sg', 'acc', 'm3', 'pos']},\n",
       "   {'text': 'obwód', 'anno': ['obwód', 'subst', 'sg', 'acc', 'm3']},\n",
       "   {'text': 'miał', 'anno': ['mieć', 'praet', 'sg', 'm3', 'imperf']},\n",
       "   {'text': 'każdy', 'anno': ['każdy', 'adj', 'sg', 'nom', 'm3', 'pos']},\n",
       "   {'text': 'fort', 'anno': ['fort', 'subst', 'sg', 'nom', 'm3']},\n",
       "   {'text': ',', 'anno': ['', 'interp']},\n",
       "   {'text': 'kraty', 'anno': ['krata', 'subst', 'pl', 'nom', 'f']},\n",
       "   {'text': 'były', 'anno': ['być', 'praet', 'pl', 'f', 'imperf']},\n",
       "   {'text': 'też', 'anno': ['też', 'qub']}]},\n",
       " {'highlighted': ', umiera. - Nie [każdy] - zaprzeczył, przyglądając się',\n",
       "  'text': ', umiera. - Nie każdy - zaprzeczył, przyglądając się',\n",
       "  'items': [{'text': ',', 'anno': ['', 'interp']},\n",
       "   {'text': 'umiera', 'anno': ['umierać', 'fin', 'sg', 'ter', 'imperf']},\n",
       "   {'text': '.', 'anno': ['', 'interp']},\n",
       "   {'text': '-', 'anno': ['-', 'interp']},\n",
       "   {'text': 'Nie', 'anno': ['nie', 'qub']},\n",
       "   {'text': 'każdy', 'anno': ['każdy', 'adj', 'sg', 'nom', 'm1', 'pos']},\n",
       "   {'text': '-', 'anno': ['-', 'interp']},\n",
       "   {'text': 'zaprzeczył', 'anno': ['zaprzeczyć', 'praet', 'sg', 'm1', 'perf']},\n",
       "   {'text': ',', 'anno': ['', 'interp']},\n",
       "   {'text': 'przyglądając', 'anno': ['przyglądać', 'pcon', 'imperf']},\n",
       "   {'text': 'się', 'anno': ['się', 'qub']}]},\n",
       " {'highlighted': '. Odpust taki mógł otrzymać [każdy], kto pomagał finansowo w',\n",
       "  'text': '. Odpust taki mógł otrzymać każdy, kto pomagał finansowo w',\n",
       "  'items': [{'text': '.', 'anno': ['', 'interp']},\n",
       "   {'text': 'Odpust', 'anno': ['odpust', 'subst', 'sg', 'acc', 'm3']},\n",
       "   {'text': 'taki', 'anno': ['taki', 'adj', 'sg', 'acc', 'm3', 'pos']},\n",
       "   {'text': 'mógł', 'anno': ['móc', 'praet', 'sg', 'm1', 'imperf', 'nagl']},\n",
       "   {'text': 'otrzymać', 'anno': ['otrzymać', 'inf', 'perf']},\n",
       "   {'text': 'każdy', 'anno': ['każdy', 'adj', 'sg', 'nom', 'm1', 'pos']},\n",
       "   {'text': ',', 'anno': ['', 'interp']},\n",
       "   {'text': 'kto', 'anno': ['kto', 'subst', 'sg', 'nom', 'm1']},\n",
       "   {'text': 'pomagał', 'anno': ['pomagać', 'praet', 'sg', 'm1', 'imperf']},\n",
       "   {'text': 'finansowo', 'anno': ['finansowo', 'adv', 'pos']},\n",
       "   {'text': 'w', 'anno': ['w', 'prep', 'loc', 'nwok']}]},\n",
       " {'highlighted': 'i naśladownictwo, a przecież [każdy] człowiek, a zwłaszcza młody',\n",
       "  'text': 'i naśladownictwo, a przecież każdy człowiek, a zwłaszcza młody',\n",
       "  'items': [{'text': 'i', 'anno': ['i', 'conj']},\n",
       "   {'text': 'naśladownictwo',\n",
       "    'anno': ['naśladownictwo', 'subst', 'sg', 'nom', 'n']},\n",
       "   {'text': ',', 'anno': ['', 'interp']},\n",
       "   {'text': 'a', 'anno': ['a', 'conj']},\n",
       "   {'text': 'przecież', 'anno': ['przecież', 'qub']},\n",
       "   {'text': 'każdy', 'anno': ['każdy', 'adj', 'sg', 'nom', 'm1', 'pos']},\n",
       "   {'text': 'człowiek', 'anno': ['człowiek', 'subst', 'sg', 'nom', 'm1']},\n",
       "   {'text': ',', 'anno': ['', 'interp']},\n",
       "   {'text': 'a', 'anno': ['a', 'conj']},\n",
       "   {'text': 'zwłaszcza', 'anno': ['zwłaszcza', 'qub']},\n",
       "   {'text': 'młody', 'anno': ['młody', 'adj', 'sg', 'nom', 'm1', 'pos']}]}]"
      ]
     },
     "execution_count": 78,
     "metadata": {},
     "output_type": "execute_result"
    }
   ],
   "source": [
    "#\n",
    "# This is a code that queries policarp (additional tasks no. 1)\n",
    "#\n",
    "import requests\n",
    "import time\n",
    "from bs4 import BeautifulSoup\n",
    "\n",
    "# Query online poliqarp API\n",
    "def queryPoliqarp(query, corpus):\n",
    "    s = requests.Session()\n",
    "    s.get(f\"http://nkjp.pl/poliqarp/{corpus}/\")\n",
    "    cond = True\n",
    "    rep = 0\n",
    "    while cond:\n",
    "        s.post(\"http://nkjp.pl/poliqarp/query/\",  {\"query\": query, \"corpus\": corpus})\n",
    "        t = s.get(f\"http://www.nkjp.pl/poliqarp/{corpus}/query/\").text\n",
    "        ret = BeautifulSoup(t)\n",
    "        results = []\n",
    "        trs = ret.select(\".query-results table tr\")\n",
    "        for tr in trs:\n",
    "            tds = tr.select(\"td\")\n",
    "            text_items = []\n",
    "            original_texts = []\n",
    "            highlight_texts = []\n",
    "            for td in tds:\n",
    "                strongs = td.select(\"strong\")\n",
    "                if len(strongs) == 0:\n",
    "                    for span in td.select(\"span\"):\n",
    "                        highlight_texts.append(span.text)\n",
    "                        original_texts.append(span.text)\n",
    "                        text_items.append({\n",
    "                            \"text\": span.text.strip(),\n",
    "                            \"anno\": span[\"title\"].replace(span.text, \"\").replace(\"\\n\", \"\").replace(\"[\", \"\").replace(\"]\", \"\").strip().split(\":\"),\n",
    "                        })\n",
    "                else:\n",
    "                    original_texts.append(strongs[0].text)\n",
    "                    highlight_texts.append(f\" [{strongs[0].text.strip()}]\")\n",
    "                    text_items.append({\n",
    "                        \"text\": strongs[0].text.strip(),\n",
    "                        \"anno\": td.text.replace(strongs[0].text, \"\").replace(\"\\n\", \"\").replace(\"[\",\"\").replace(\"]\",\"\").strip().split(\":\")\n",
    "                    })\n",
    "            results += [{\n",
    "                \"highlighted\": (\"\".join(highlight_texts).strip()),\n",
    "                \"text\": (\"\".join(original_texts).strip()),\n",
    "                \"items\": text_items,\n",
    "            }]\n",
    "        cond = False\n",
    "        if len(results) <= 0 and rep < 2:\n",
    "            cond = True\n",
    "        if cond:\n",
    "            time.sleep(1)\n",
    "        rep = rep + 1\n",
    "    return results\n",
    "\n",
    "# queryPoliqarp(\"każdy .* pewien\", \"nkjp1M\")\n",
    "queryPoliqarp(\"każdy\", \"nkjp1M\")\n"
   ]
  }
 ],
 "metadata": {
  "kernelspec": {
   "display_name": "Python 3",
   "language": "python",
   "name": "python3"
  },
  "language_info": {
   "codemirror_mode": {
    "name": "ipython",
    "version": 3
   },
   "file_extension": ".py",
   "mimetype": "text/x-python",
   "name": "python",
   "nbconvert_exporter": "python",
   "pygments_lexer": "ipython3",
   "version": "3.7.3"
  }
 },
 "nbformat": 4,
 "nbformat_minor": 2
}

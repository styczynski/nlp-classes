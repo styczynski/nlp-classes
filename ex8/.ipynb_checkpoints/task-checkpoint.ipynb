{
 "cells": [
  {
   "cell_type": "code",
   "execution_count": 1,
   "metadata": {},
   "outputs": [
    {
     "data": {
      "text/plain": [
       "<eniam.eniam_core.DomparserResult at 0x10c4fafd0>"
      ]
     },
     "execution_count": 1,
     "metadata": {},
     "output_type": "execute_result"
    }
   ],
   "source": [
    "#!pip install eniam\n",
    "from eniam import *\n",
    "\n",
    "# Ex. 1\n",
    "result = Eniam(\n",
    "# Custom atomic symbols in lexicon\n",
    "[],\n",
    "# Custom lexicon rules\n",
    "{\n",
    "    rule(lemma='kot',pos=subst,case=nom):       nom,\n",
    "    rule(lemma='gonić',pos=fin,person=ter):     (ip<nom)>acc,\n",
    "    rule(lemma='mysz',pos=subst,case=acc):      acc,\n",
    "    root_rule():                                s % ip,\n",
    "},\n",
    "# Custom valence phrases\n",
    "['KOT', 'MYSZ', 'ZDARZENIE'],\n",
    "# Valence rules\n",
    "{\n",
    "    valence_rule('kot', 'noun'): 'KOT',\n",
    "    valence_rule('mysz', 'noun'): 'MYSZ',\n",
    "    valence_rule('gonić', 'verb'): 'ZDARZENIE',\n",
    "}).dom(\"Kot goni mysz.\")\n",
    "\n",
    "#result.show()\n",
    "result.save_html('ex1')"
   ]
  },
  {
   "cell_type": "code",
   "execution_count": 2,
   "metadata": {},
   "outputs": [
    {
     "data": {
      "text/plain": [
       "<eniam.eniam_core.DomparserResult at 0x10c532e10>"
      ]
     },
     "execution_count": 2,
     "metadata": {},
     "output_type": "execute_result"
    }
   ],
   "source": [
    "# Ex. 2\n",
    "from eniam import *\n",
    "result = Eniam(\n",
    "    [],\n",
    "    {\n",
    "        rule(lemma='kot',pos=subst):       np*nom,\n",
    "        rule(lemma='mysz',pos=subst):      np*acc,\n",
    "        rule(lemma='gonić',pos=fin):       (ip<(np*nom))>(np*acc),\n",
    "        root_rule():                       s % ip,\n",
    "    },\n",
    "    ['KOT', 'MYSZ', 'ZDARZENIE'],\n",
    "    {\n",
    "        valence_rule('kot', 'noun'): 'KOT',\n",
    "        valence_rule('mysz', 'noun'): 'MYSZ',\n",
    "        valence_rule('gonić', 'verb'): 'ZDARZENIE',\n",
    "    }\n",
    ").dom(\"Kot goni mysz.\")\n",
    "\n",
    "#result.show()\n",
    "result.save_html('ex2')"
   ]
  },
  {
   "cell_type": "code",
   "execution_count": 3,
   "metadata": {},
   "outputs": [
    {
     "data": {
      "text/plain": [
       "<eniam.eniam_core.DomparserResult at 0x10ca9bfd0>"
      ]
     },
     "execution_count": 3,
     "metadata": {},
     "output_type": "execute_result"
    }
   ],
   "source": [
    "# Ex. 3\n",
    "from eniam import *\n",
    "result = Eniam(\n",
    "    [],\n",
    "    {\n",
    "        rule(lemma='kot',pos=subst):       np*nom,\n",
    "        rule(lemma='mysz',pos=subst):      quant(np*case, case=[nom, acc]),\n",
    "        rule(lemma='gonić',pos=fin):       (ip<(np*nom))>(np*acc),\n",
    "        root_rule():                       s % ip,\n",
    "    },\n",
    "    ['KOT', 'MYSZ', 'ZDARZENIE'],\n",
    "    {\n",
    "        valence_rule('kot', 'noun'): 'KOT',\n",
    "        valence_rule('mysz', 'noun'): 'MYSZ',\n",
    "        valence_rule('gonić', 'verb'): 'ZDARZENIE',\n",
    "    }\n",
    ").dom(\"Kot goni mysz.\")\n",
    "\n",
    "#result.show()\n",
    "result.save_html('ex3')"
   ]
  },
  {
   "cell_type": "code",
   "execution_count": 4,
   "metadata": {},
   "outputs": [
    {
     "data": {
      "text/plain": [
       "<eniam.eniam_core.DomparserResult at 0x10c4eaa50>"
      ]
     },
     "execution_count": 4,
     "metadata": {},
     "output_type": "execute_result"
    }
   ],
   "source": [
    "# Ex. 5\n",
    "from eniam import *\n",
    "result = Eniam(\n",
    "    [],\n",
    "    {\n",
    "        rule(lemma='kot',pos=subst,case=nom):       np*sg*nom,\n",
    "        rule(lemma='mysz',pos=subst,case=acc):      np*sg*acc,\n",
    "        rule(lemma='gonić',pos=fin,person=ter):     (ip<(np*sg*nom))>(np*T*acc),\n",
    "        root_rule():                                s % ip,\n",
    "    },\n",
    "    ['KOT', 'MYSZ', 'ZDARZENIE'],\n",
    "    {\n",
    "        valence_rule('kot', 'noun'): 'KOT',\n",
    "        valence_rule('mysz', 'noun'): 'MYSZ',\n",
    "        valence_rule('gonić', 'verb'): 'ZDARZENIE',\n",
    "    }\n",
    ").dom(\"Kot goni mysz.\")\n",
    "\n",
    "#result.show()\n",
    "result.save_html('ex5')"
   ]
  },
  {
   "cell_type": "code",
   "execution_count": 5,
   "metadata": {},
   "outputs": [
    {
     "data": {
      "text/plain": [
       "<eniam.eniam_core.DomparserResult at 0x10caa8f90>"
      ]
     },
     "execution_count": 5,
     "metadata": {},
     "output_type": "execute_result"
    }
   ],
   "source": [
    "# Ex. 6\n",
    "from eniam import *\n",
    "result = Eniam(\n",
    "    [],\n",
    "    {\n",
    "        rule(lemma='kot',pos=subst,case=nom):       nom,\n",
    "        rule(lemma='mysz',pos=subst,case=acc):      acc,\n",
    "        rule(lemma='gonić',pos=fin,person=ter):     ip[nom | acc],\n",
    "        root_rule():                                s % ip,\n",
    "    },\n",
    "    ['KOT', 'MYSZ', 'ZDARZENIE'],\n",
    "    {\n",
    "        valence_rule('kot', 'noun'): 'KOT',\n",
    "        valence_rule('mysz', 'noun'): 'MYSZ',\n",
    "        valence_rule('gonić', 'verb'): 'ZDARZENIE',\n",
    "    }\n",
    ").dom(\"Kot goni mysz.\")\n",
    "\n",
    "#result.show()\n",
    "result.save_html('ex6')"
   ]
  },
  {
   "cell_type": "code",
   "execution_count": 6,
   "metadata": {},
   "outputs": [
    {
     "data": {
      "text/plain": [
       "<eniam.eniam_core.DomparserResult at 0x10c536ed0>"
      ]
     },
     "execution_count": 6,
     "metadata": {},
     "output_type": "execute_result"
    }
   ],
   "source": [
    "# Ex. 7\n",
    "from eniam import *\n",
    "result = Eniam(\n",
    "    [],\n",
    "    {\n",
    "        rule(lemma='łódź',pos=subst):        quant(case, case=[nom, acc]),\n",
    "        rule(lemma='statek',pos=subst):      quant(case, case=[nom, acc]),\n",
    "        rule(lemma='wyprzedzać',pos=fin):    ip[nom | acc],\n",
    "        root_rule():                         s % ip,\n",
    "    },\n",
    "    ['L', 'S', 'W'],\n",
    "    {\n",
    "        valence_rule('łódź', 'noun'): 'L',\n",
    "        valence_rule('statek', 'noun'): 'S',\n",
    "        valence_rule('wyprzedzać', 'verb'): 'W',\n",
    "    }\n",
    ").dom(\"Łódź wyprzedza statek.\")\n",
    "\n",
    "#result.show()\n",
    "result.save_html('ex7')"
   ]
  },
  {
   "cell_type": "code",
   "execution_count": 7,
   "metadata": {},
   "outputs": [
    {
     "data": {
      "text/plain": [
       "<eniam.eniam_core.DomparserResult at 0x10cad2f90>"
      ]
     },
     "execution_count": 7,
     "metadata": {},
     "output_type": "execute_result"
    }
   ],
   "source": [
    "# Ex. 10\n",
    "from eniam import *\n",
    "result = Eniam(\n",
    "    [],\n",
    "    {\n",
    "        rule(lemma='kot', pos=subst):               nom,\n",
    "        rule(lemma='który',pos=apron):              (cp>(ip<nom))>nom,\n",
    "        rule(lemma='gonić', pos=fin):               (ip<nom)>acc,\n",
    "        rule(lemma='mysz', pos=subst, case=acc):    acc,\n",
    "        root_rule():                                s < cp,\n",
    "    },\n",
    "    ['KOT', 'MYSZ', 'ZDARZENIE'],\n",
    "    {\n",
    "        valence_rule('kot', 'noun'): 'KOT',\n",
    "        valence_rule('mysz', 'noun'): 'MYSZ',\n",
    "        valence_rule('gonić', 'verb'): 'ZDARZENIE',\n",
    "    }\n",
    ").dom(\"Który kot goni mysz.\")\n",
    "\n",
    "#result.show()\n",
    "result.save_html('ex10')"
   ]
  },
  {
   "cell_type": "code",
   "execution_count": 8,
   "metadata": {},
   "outputs": [
    {
     "data": {
      "text/plain": [
       "<eniam.eniam_core.DomparserResult at 0x10c536450>"
      ]
     },
     "execution_count": 8,
     "metadata": {},
     "output_type": "execute_result"
    }
   ],
   "source": [
    "# Ex. 11\n",
    "from eniam import *\n",
    "result = Eniam(\n",
    "    [],\n",
    "    {\n",
    "        rule(lemma='kot', pos=subst):               np*sg*nom,\n",
    "        rule(lemma='gonić', pos=fin):               ((ip*sg)<(np*T*acc))<(np*sg*nom),\n",
    "        rule(lemma='co', pos=comp):                 quant((cp>((ip*T)<(np*sg*case))), case=[nom, acc]),\n",
    "        root_rule():                                s % (ip+cp),\n",
    "    },\n",
    "    ['KOT', 'ZDARZENIE'],\n",
    "    {\n",
    "        valence_rule('kot', 'noun'): 'KOT',\n",
    "        valence_rule('gonić', 'verb'): 'ZDARZENIE',\n",
    "    }\n",
    ").dom(\"Co kot goni.\")\n",
    "\n",
    "#result.show()\n",
    "result.save_html('ex11')"
   ]
  },
  {
   "cell_type": "code",
   "execution_count": 9,
   "metadata": {},
   "outputs": [
    {
     "data": {
      "text/plain": [
       "<eniam.eniam_core.DomparserResult at 0x10caa0fd0>"
      ]
     },
     "execution_count": 9,
     "metadata": {},
     "output_type": "execute_result"
    }
   ],
   "source": [
    "# Ex. 12\n",
    "from eniam import *\n",
    "\n",
    "result = Eniam(\n",
    "    [],\n",
    "    {\n",
    "        rule(lemma='każdy', pos=subst, case=nom):    (np*nom) > (n*nom),\n",
    "        rule(lemma='słoń', pos=subst):               n*nom,\n",
    "        rule(lemma='trąbić', pos=fin):               ip < (np*nom),\n",
    "        root_rule():                                 s < ip\n",
    "    },\n",
    "    ['SŁOŃ', 'ZDARZENIE', 'KWANTYFIKATOR'],\n",
    "    {\n",
    "        valence_rule('każdy', 'noun'):  'KWANTYFIKATOR',\n",
    "        valence_rule('słoń', 'noun'):   'SŁOŃ',\n",
    "        valence_rule('trąbić', 'verb'): 'ZDARZENIE',\n",
    "    }\n",
    ").dom(\"Każdy słoń trąbi.\")\n",
    "\n",
    "#result.show()\n",
    "result.save_html('ex12')"
   ]
  },
  {
   "cell_type": "code",
   "execution_count": 10,
   "metadata": {
    "scrolled": false
   },
   "outputs": [
    {
     "data": {
      "text/plain": [
       "<eniam.eniam_core.DomparserResult at 0x109396f90>"
      ]
     },
     "execution_count": 10,
     "metadata": {},
     "output_type": "execute_result"
    }
   ],
   "source": [
    "# Ex. 13\n",
    "from eniam import *\n",
    "\n",
    "result = Eniam(\n",
    "    [],\n",
    "    {\n",
    "        rule(lemma='każdy',pos=subst,case=nom):     (np*nom) > (n*nom),\n",
    "        rule(lemma='chłopak', pos=subst):           n*nom,\n",
    "        rule(lemma='lubić', pos=fin):               ip[(np*nom) | (np*acc)],\n",
    "        rule(lemma='dziewczyna', pos=subst):        np*acc,\n",
    "        root_rule():                                s < ip\n",
    "    },\n",
    "    ['OSOBA', 'ZDARZENIE', 'KWANTYFIKATOR'],\n",
    "    {\n",
    "        valence_rule('każdy', 'noun'):       'KWANTYFIKATOR',\n",
    "        valence_rule('chłopak', 'noun'):     'OSOBA',\n",
    "        valence_rule('dziewczyna', 'noun'):  'OSOBA',\n",
    "        valence_rule('lubić', 'verb'):       'ZDARZENIE',\n",
    "    }\n",
    ").dom(\"Każdy chłopak lubi dziewczynę.\")\n",
    "\n",
    "#result.show()\n",
    "result.save_html('ex13')"
   ]
  },
  {
   "cell_type": "code",
   "execution_count": 11,
   "metadata": {},
   "outputs": [
    {
     "data": {
      "text/plain": [
       "<eniam.eniam_core.DomparserResult at 0x10ca9b610>"
      ]
     },
     "execution_count": 11,
     "metadata": {},
     "output_type": "execute_result"
    }
   ],
   "source": [
    "# Ex. 14\n",
    "from eniam import *\n",
    "result = Eniam(\n",
    "    [],\n",
    "    {\n",
    "        'lemma=nie,pos=ppron3':                          ip>ip,\n",
    "        rule(lemma='przerwać', pos=praet, person=pri):   ip>acc,\n",
    "        rule(lemma='praca', pos=subst, case=acc):        acc,\n",
    "        rule(lemma='praca', pos=subst, case=gen):        gen,\n",
    "        root_rule():                                     s%ip,\n",
    "    },\n",
    "    ['CZYNNOŚĆ', 'ZDARZENIE'],\n",
    "    {\n",
    "        valence_rule('praca', 'noun'):      'CZYNNOŚĆ',\n",
    "        valence_rule('przerwać', 'verb'):   'ZDARZENIE',\n",
    "    }\n",
    ").dom(\"Przerwał pracę.\")\n",
    "\n",
    "#result.show()\n",
    "result.save_html('ex14')"
   ]
  },
  {
   "cell_type": "code",
   "execution_count": 12,
   "metadata": {},
   "outputs": [
    {
     "data": {
      "text/plain": [
       "<eniam.eniam_core.DomparserResult at 0x10caa1610>"
      ]
     },
     "execution_count": 12,
     "metadata": {},
     "output_type": "execute_result"
    }
   ],
   "source": [
    "# Ex. 15\n",
    "from eniam import *\n",
    "result = Eniam(\n",
    "    [],\n",
    "    {\n",
    "        'lemma=nie,pos=ppron3':                          ip>ip,\n",
    "        rule(lemma='przerwać', pos=praet, person=pri):   ip>acc,\n",
    "        rule(lemma='jednorożec', pos=subst, case=gen):   gen,\n",
    "        root_rule():                                     s%ip,\n",
    "    },\n",
    "    ['CZYNNOŚĆ', 'ZDARZENIE'],\n",
    "    {\n",
    "        valence_rule('praca', 'noun'):      'CZYNNOŚĆ',\n",
    "        valence_rule('przerwać', 'verb'):   'ZDARZENIE',\n",
    "    }\n",
    ").dom(\"Nie przerwał pracy.\")\n",
    "\n",
    "#result.show()\n",
    "result.save_html('ex15')"
   ]
  },
  {
   "cell_type": "code",
   "execution_count": null,
   "metadata": {},
   "outputs": [],
   "source": []
  }
 ],
 "metadata": {
  "kernelspec": {
   "display_name": "Python 3",
   "language": "python",
   "name": "python3"
  },
  "language_info": {
   "codemirror_mode": {
    "name": "ipython",
    "version": 3
   },
   "file_extension": ".py",
   "mimetype": "text/x-python",
   "name": "python",
   "nbconvert_exporter": "python",
   "pygments_lexer": "ipython3",
   "version": "3.7.5"
  }
 },
 "nbformat": 4,
 "nbformat_minor": 2
}
